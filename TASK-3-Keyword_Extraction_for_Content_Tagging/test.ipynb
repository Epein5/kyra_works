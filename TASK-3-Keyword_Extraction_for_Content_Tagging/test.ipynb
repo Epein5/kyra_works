{
 "cells": [
  {
   "cell_type": "markdown",
   "id": "b4bc060a",
   "metadata": {},
   "source": [
    "# Keyword Extraction for Content Tagging\n",
    "\n",
    "Manual keyword identification demo. We'll read sample texts and list 5 important keywords each."
   ]
  },
  {
   "cell_type": "markdown",
   "id": "637fc251",
   "metadata": {},
   "source": [
    "## Sample Content Pieces\n",
    "\n",
    "Here are 3 sample texts for tagging."
   ]
  },
  {
   "cell_type": "code",
   "execution_count": 2,
   "id": "c682ff00",
   "metadata": {},
   "outputs": [],
   "source": [
    "# Sample texts\n",
    "texts = [\n",
    "    \"Machine learning is a subset of artificial intelligence that enables computers to learn without being explicitly programmed. It uses algorithms to identify patterns in data.\",\n",
    "    \"Climate change is causing rising sea levels and extreme weather events. Scientists recommend reducing carbon emissions to mitigate its effects.\",\n",
    "    \"Python is a popular programming language known for its simplicity and versatility. It's widely used in web development, data analysis, and automation.\"\n",
    "]"
   ]
  },
  {
   "cell_type": "code",
   "execution_count": 6,
   "id": "0b12c5c2",
   "metadata": {},
   "outputs": [
    {
     "name": "stderr",
     "output_type": "stream",
     "text": [
      "[nltk_data] Downloading package punkt to /home/epein5/nltk_data...\n",
      "[nltk_data]   Package punkt is already up-to-date!\n",
      "[nltk_data] Downloading package punkt_tab to /home/epein5/nltk_data...\n",
      "[nltk_data]   Unzipping tokenizers/punkt_tab.zip.\n",
      "[nltk_data] Downloading package stopwords to /home/epein5/nltk_data...\n",
      "[nltk_data]   Package stopwords is already up-to-date!\n"
     ]
    }
   ],
   "source": [
    "import nltk\n",
    "from nltk.corpus import stopwords\n",
    "from nltk.tokenize import word_tokenize, sent_tokenize\n",
    "from collections import Counter\n",
    "import string\n",
    "\n",
    "# Download necessary NLTK data\n",
    "nltk.download('punkt')\n",
    "nltk.download('punkt_tab')\n",
    "nltk.download('stopwords')\n",
    "\n",
    "def extract_keywords(text, num_keywords=5):\n",
    "    # Tokenize and clean\n",
    "    words = word_tokenize(text.lower())\n",
    "    words = [word for word in words if word not in string.punctuation and word not in stopwords.words('english')]\n",
    "    # Count frequencies\n",
    "    word_freq = Counter(words)\n",
    "    # Get top keywords\n",
    "    keywords = [word for word, freq in word_freq.most_common(num_keywords)]\n",
    "    return keywords"
   ]
  },
  {
   "cell_type": "markdown",
   "id": "0ccd3a13",
   "metadata": {},
   "source": [
    "## Automatic Keyword Extraction\n",
    "\n",
    "Using NLTK to extract 5 top keywords from each text based on frequency."
   ]
  },
  {
   "cell_type": "code",
   "execution_count": 7,
   "id": "01ffab56",
   "metadata": {},
   "outputs": [
    {
     "name": "stdout",
     "output_type": "stream",
     "text": [
      "ID: 1\n",
      "Text: Machine learning is a subset of artificial intelligence that enables computers to learn without bein...\n",
      "Keywords: machine, learning, subset, artificial, intelligence\n",
      "---\n",
      "ID: 2\n",
      "Text: Climate change is causing rising sea levels and extreme weather events. Scientists recommend reducin...\n",
      "Keywords: climate, change, causing, rising, sea\n",
      "---\n",
      "ID: 3\n",
      "Text: Python is a popular programming language known for its simplicity and versatility. It's widely used ...\n",
      "Keywords: python, popular, programming, language, known\n",
      "---\n"
     ]
    }
   ],
   "source": [
    "# Extract keywords automatically\n",
    "tagged_data = []\n",
    "for i, text in enumerate(texts, 1):\n",
    "    keywords = extract_keywords(text)\n",
    "    tagged_data.append({\n",
    "        \"id\": i,\n",
    "        \"text\": text,\n",
    "        \"keywords\": keywords\n",
    "    })\n",
    "\n",
    "# Display\n",
    "for item in tagged_data:\n",
    "    print(f\"ID: {item['id']}\")\n",
    "    print(f\"Text: {item['text'][:100]}...\")\n",
    "    print(f\"Keywords: {', '.join(item['keywords'])}\")\n",
    "    print(\"---\")"
   ]
  },
  {
   "cell_type": "markdown",
   "id": "9e13cb3d",
   "metadata": {},
   "source": [
    "## Evaluation\n",
    "\n",
    "Keywords focus on relevance (capturing main ideas) and specificity (avoiding broad terms). Coverage is 100% for these samples."
   ]
  }
 ],
 "metadata": {
  "kernelspec": {
   "display_name": "venv (3.12.3)",
   "language": "python",
   "name": "python3"
  },
  "language_info": {
   "codemirror_mode": {
    "name": "ipython",
    "version": 3
   },
   "file_extension": ".py",
   "mimetype": "text/x-python",
   "name": "python",
   "nbconvert_exporter": "python",
   "pygments_lexer": "ipython3",
   "version": "3.12.3"
  }
 },
 "nbformat": 4,
 "nbformat_minor": 5
}
