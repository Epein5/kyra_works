{
 "cells": [
  {
   "cell_type": "markdown",
   "id": "b4bc060a",
   "metadata": {},
   "source": [
    "# Keyword Extraction for Content Tagging\n",
    "\n",
    "Manual keyword identification demo. We'll read sample texts and list 5 important keywords each."
   ]
  },
  {
   "cell_type": "markdown",
   "id": "637fc251",
   "metadata": {},
   "source": [
    "## Sample Content Pieces\n",
    "\n",
    "Here are 3 sample texts for tagging."
   ]
  },
  {
   "cell_type": "code",
   "execution_count": 2,
   "id": "c682ff00",
   "metadata": {},
   "outputs": [],
   "source": [
    "# Sample texts\n",
    "texts = [\n",
    "    \"Machine learning is a subset of artificial intelligence that enables computers to learn without being explicitly programmed. It uses algorithms to identify patterns in data.\",\n",
    "    \"Climate change is causing rising sea levels and extreme weather events. Scientists recommend reducing carbon emissions to mitigate its effects.\",\n",
    "    \"Python is a popular programming language known for its simplicity and versatility. It's widely used in web development, data analysis, and automation.\"\n",
    "]"
   ]
  },
  {
   "cell_type": "markdown",
   "id": "0ccd3a13",
   "metadata": {},
   "source": [
    "## Manual Keyword Tagging\n",
    "\n",
    "For each text, I've manually identified 5 relevant and specific keywords."
   ]
  },
  {
   "cell_type": "code",
   "execution_count": 3,
   "id": "01ffab56",
   "metadata": {},
   "outputs": [
    {
     "name": "stdout",
     "output_type": "stream",
     "text": [
      "ID: 1\n",
      "Text: Machine learning is a subset of artificial intelligence that enables computers to learn without bein...\n",
      "Keywords: machine learning, artificial intelligence, algorithms, data patterns, programming\n",
      "---\n",
      "ID: 2\n",
      "Text: Climate change is causing rising sea levels and extreme weather events. Scientists recommend reducin...\n",
      "Keywords: climate change, sea levels, extreme weather, carbon emissions, mitigation\n",
      "---\n",
      "ID: 3\n",
      "Text: Python is a popular programming language known for its simplicity and versatility. It's widely used ...\n",
      "Keywords: Python programming, web development, data analysis, automation, versatility\n",
      "---\n"
     ]
    }
   ],
   "source": [
    "# Tagged keywords\n",
    "tagged_data = [\n",
    "    {\n",
    "        \"id\": 1,\n",
    "        \"text\": texts[0],\n",
    "        \"keywords\": [\"machine learning\", \"artificial intelligence\", \"algorithms\", \"data patterns\", \"programming\"]\n",
    "    },\n",
    "    {\n",
    "        \"id\": 2,\n",
    "        \"text\": texts[1],\n",
    "        \"keywords\": [\"climate change\", \"sea levels\", \"extreme weather\", \"carbon emissions\", \"mitigation\"]\n",
    "    },\n",
    "    {\n",
    "        \"id\": 3,\n",
    "        \"text\": texts[2],\n",
    "        \"keywords\": [\"Python programming\", \"web development\", \"data analysis\", \"automation\", \"versatility\"]\n",
    "    }\n",
    "]\n",
    "\n",
    "# Display\n",
    "for item in tagged_data:\n",
    "    print(f\"ID: {item['id']}\")\n",
    "    print(f\"Text: {item['text'][:100]}...\")\n",
    "    print(f\"Keywords: {', '.join(item['keywords'])}\")\n",
    "    print(\"---\")"
   ]
  },
  {
   "cell_type": "markdown",
   "id": "9e13cb3d",
   "metadata": {},
   "source": [
    "## Evaluation\n",
    "\n",
    "Keywords focus on relevance (capturing main ideas) and specificity (avoiding broad terms). Coverage is 100% for these samples."
   ]
  }
 ],
 "metadata": {
  "kernelspec": {
   "display_name": "venv (3.12.3)",
   "language": "python",
   "name": "python3"
  },
  "language_info": {
   "codemirror_mode": {
    "name": "ipython",
    "version": 3
   },
   "file_extension": ".py",
   "mimetype": "text/x-python",
   "name": "python",
   "nbconvert_exporter": "python",
   "pygments_lexer": "ipython3",
   "version": "3.12.3"
  }
 },
 "nbformat": 4,
 "nbformat_minor": 5
}
