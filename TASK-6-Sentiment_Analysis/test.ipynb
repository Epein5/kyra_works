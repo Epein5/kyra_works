{
 "cells": [
  {
   "cell_type": "markdown",
   "id": "0ba645d1",
   "metadata": {},
   "source": [
    "# Sentiment Analysis Test Cases\n",
    "\n",
    "This notebook demonstrates sentiment analysis on sample user feedback and visualizes the results."
   ]
  },
  {
   "cell_type": "code",
   "execution_count": 2,
   "id": "72e6103b",
   "metadata": {},
   "outputs": [
    {
     "name": "stderr",
     "output_type": "stream",
     "text": [
      "[nltk_data] Downloading package vader_lexicon to\n",
      "[nltk_data]     /home/epein5/nltk_data...\n"
     ]
    }
   ],
   "source": [
    "import nltk\n",
    "from nltk.sentiment import SentimentIntensityAnalyzer\n",
    "import matplotlib.pyplot as plt\n",
    "\n",
    "# Download VADER lexicon if not already downloaded\n",
    "nltk.download('vader_lexicon')\n",
    "\n",
    "# Initialize the sentiment analyzer\n",
    "sia = SentimentIntensityAnalyzer()"
   ]
  },
  {
   "cell_type": "code",
   "execution_count": 6,
   "id": "e9634355",
   "metadata": {},
   "outputs": [
    {
     "name": "stdout",
     "output_type": "stream",
     "text": [
      "Sample feedbacks:\n",
      "1. I love this product! It's amazing and works perfectly.\n",
      "2. This is okay, nothing special but it does the job.\n",
      "3. Terrible experience, I hate it. Worst purchase ever.\n",
      "4. Great customer service, very helpful and friendly.\n",
      "5. It's decent, but could be better. Some issues with quality.\n",
      "6. Absolutely fantastic! Highly recommend to everyone.\n",
      "7. Not satisfied at all. Poor quality and bad design.\n",
      "8. Good value for money, I'm happy with it.\n",
      "9. Disappointing. Doesn't meet expectations.\n",
      "10. Excellent! Exceeded my expectations in every way.\n"
     ]
    }
   ],
   "source": [
    "# Sample user feedback texts\n",
    "feedbacks = [\n",
    "    \"I love this product! It's amazing and works perfectly.\",\n",
    "    \"This is okay, nothing special but it does the job.\",\n",
    "    \"Terrible experience, I hate it. Worst purchase ever.\",\n",
    "    \"Great customer service, very helpful and friendly.\",\n",
    "    \"It's decent, but could be better. Some issues with quality.\",\n",
    "    \"Absolutely fantastic! Highly recommend to everyone.\",\n",
    "    \"Not satisfied at all. Poor quality and bad design.\",\n",
    "    \"Good value for money, I'm happy with it.\",\n",
    "    \"Disappointing. Doesn't meet expectations.\",\n",
    "    \"Excellent! Exceeded my expectations in every way.\"\n",
    "]\n",
    "\n",
    "print(\"Sample feedbacks:\")\n",
    "for i, fb in enumerate(feedbacks, 1):\n",
    "    print(f\"{i}. {fb}\")"
   ]
  },
  {
   "cell_type": "code",
   "execution_count": 7,
   "id": "b27f417b",
   "metadata": {},
   "outputs": [
    {
     "name": "stdout",
     "output_type": "stream",
     "text": [
      "Feedback: I love this product! It's amazing and works perfec... | Sentiment: Positive | Score: 0.93\n",
      "Feedback: This is okay, nothing special but it does the job.... | Sentiment: Neutral | Score: -0.05\n",
      "Feedback: Terrible experience, I hate it. Worst purchase eve... | Sentiment: Negative | Score: -0.90\n",
      "Feedback: Great customer service, very helpful and friendly.... | Sentiment: Positive | Score: 0.89\n",
      "Feedback: It's decent, but could be better. Some issues with... | Sentiment: Positive | Score: 0.59\n",
      "Feedback: Absolutely fantastic! Highly recommend to everyone... | Sentiment: Positive | Score: 0.80\n",
      "Feedback: Not satisfied at all. Poor quality and bad design.... | Sentiment: Negative | Score: -0.84\n",
      "Feedback: Good value for money, I'm happy with it.... | Sentiment: Positive | Score: 0.84\n",
      "Feedback: Disappointing. Doesn't meet expectations.... | Sentiment: Negative | Score: -0.49\n",
      "Feedback: Excellent! Exceeded my expectations in every way.... | Sentiment: Positive | Score: 0.61\n",
      "\n",
      "Sentiment Distribution:\n",
      "Positive: 6\n",
      "Neutral: 1\n",
      "Negative: 3\n"
     ]
    }
   ],
   "source": [
    "# Analyze sentiments\n",
    "sentiments = []\n",
    "for feedback in feedbacks:\n",
    "    score = sia.polarity_scores(feedback)\n",
    "    compound = score['compound']\n",
    "    if compound >= 0.05:\n",
    "        sentiment = 'Positive'\n",
    "    elif compound <= -0.05:\n",
    "        sentiment = 'Negative'\n",
    "    else:\n",
    "        sentiment = 'Neutral'\n",
    "    sentiments.append(sentiment)\n",
    "    print(f\"Feedback: {feedback[:50]}... | Sentiment: {sentiment} | Score: {compound:.2f}\")\n",
    "\n",
    "# Count sentiments\n",
    "from collections import Counter\n",
    "sentiment_counts = Counter(sentiments)\n",
    "print(\"\\nSentiment Distribution:\")\n",
    "for sentiment, count in sentiment_counts.items():\n",
    "    print(f\"{sentiment}: {count}\")"
   ]
  },
  {
   "cell_type": "code",
   "execution_count": 8,
   "id": "56a2d028",
   "metadata": {},
   "outputs": [
    {
     "data": {
      "image/png": "[encoded data removed]",
      "text/plain": [
       "<Figure size 800x500 with 1 Axes>"
      ]
     },
     "metadata": {},
     "output_type": "display_data"
    }
   ],
   "source": [
    "# Visualize sentiment distribution\n",
    "labels = list(sentiment_counts.keys())\n",
    "counts = list(sentiment_counts.values())\n",
    "\n",
    "plt.figure(figsize=(8, 5))\n",
    "plt.bar(labels, counts, color=['green', 'red', 'blue'])\n",
    "plt.title('Sentiment Distribution of User Feedback')\n",
    "plt.xlabel('Sentiment')\n",
    "plt.ylabel('Number of Feedbacks')\n",
    "plt.show()"
   ]
  },
  {
   "cell_type": "code",
   "execution_count": null,
   "id": "1630c7ba",
   "metadata": {},
   "outputs": [],
   "source": []
  },
  {
   "cell_type": "code",
   "execution_count": null,
   "id": "f284807a",
   "metadata": {},
   "outputs": [],
   "source": []
  }
 ],
 "metadata": {
  "kernelspec": {
   "display_name": "venv (3.12.3)",
   "language": "python",
   "name": "python3"
  },
  "language_info": {
   "codemirror_mode": {
    "name": "ipython",
    "version": 3
   },
   "file_extension": ".py",
   "mimetype": "text/x-python",
   "name": "python",
   "nbconvert_exporter": "python",
   "pygments_lexer": "ipython3",
   "version": "3.12.3"
  }
 },
 "nbformat": 4,
 "nbformat_minor": 5
}
