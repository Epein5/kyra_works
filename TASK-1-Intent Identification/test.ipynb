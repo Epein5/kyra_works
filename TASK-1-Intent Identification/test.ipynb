{
 "cells": [
  {
   "cell_type": "markdown",
   "id": "c9da57a3",
   "metadata": {},
   "source": [
    "# Chatbot Intent Identification - Rule-Based Classifier\n",
    "\n",
    "This notebook implements a simple rule-based classifier for identifying intents in chatbot inputs."
   ]
  },
  {
   "cell_type": "markdown",
   "id": "09d585d4",
   "metadata": {},
   "source": [
    "## Step 1: Define Intents\n",
    "\n",
    "Define a small set of intents: greeting, booking, complaint."
   ]
  },
  {
   "cell_type": "code",
   "execution_count": 5,
   "id": "6781691e",
   "metadata": {},
   "outputs": [],
   "source": [
    "# Define intents\n",
    "intents = ['greeting', 'booking', 'complaint']"
   ]
  },
  {
   "cell_type": "markdown",
   "id": "a7c892bc",
   "metadata": {},
   "source": [
    "## Step 2: Create Rules\n",
    "\n",
    "Create simple 'if-then' rules based on keywords."
   ]
  },
  {
   "cell_type": "code",
   "execution_count": 6,
   "id": "de2e7fbc",
   "metadata": {},
   "outputs": [],
   "source": [
    "# Define rules\n",
    "def classify_intent(text):\n",
    "    text = text.lower()\n",
    "    if any(word in text for word in ['hello', 'hi', 'hey']):\n",
    "        return 'greeting'\n",
    "    elif any(word in text for word in ['book', 'reserve', 'schedule']):\n",
    "        return 'booking'\n",
    "    elif any(word in text for word in ['problem', 'issue', 'complaint']):\n",
    "        return 'complaint'\n",
    "    else:\n",
    "        return 'unknown'"
   ]
  },
  {
   "cell_type": "markdown",
   "id": "043291b9",
   "metadata": {},
   "source": [
    "## Step 3: Prepare Test Data\n",
    "\n",
    "Create a small test dataset with labeled examples."
   ]
  },
  {
   "cell_type": "code",
   "execution_count": 7,
   "id": "4d538ebd",
   "metadata": {},
   "outputs": [],
   "source": [
    "# Test data\n",
    "test_data = [\n",
    "    (\"Hello there\", \"greeting\"),\n",
    "    (\"Hi, how are you?\", \"greeting\"),\n",
    "    (\"I want to book a table\", \"booking\"),\n",
    "    (\"Can I reserve a seat?\", \"booking\"),\n",
    "    (\"There's a problem with my order\", \"complaint\"),\n",
    "    (\"I have an issue\", \"complaint\"),\n",
    "    (\"What's the weather?\", \"unknown\")\n",
    "]"
   ]
  },
  {
   "cell_type": "markdown",
   "id": "790b6880",
   "metadata": {},
   "source": [
    "## Step 4: Test and Evaluate\n",
    "\n",
    "Run the classifier on test data and calculate accuracy."
   ]
  },
  {
   "cell_type": "code",
   "execution_count": 8,
   "id": "4a5571b4",
   "metadata": {},
   "outputs": [
    {
     "name": "stdout",
     "output_type": "stream",
     "text": [
      "Text: 'Hello there' -> Predicted: greeting, Actual: greeting\n",
      "Text: 'Hi, how are you?' -> Predicted: greeting, Actual: greeting\n",
      "Text: 'I want to book a table' -> Predicted: booking, Actual: booking\n",
      "Text: 'Can I reserve a seat?' -> Predicted: booking, Actual: booking\n",
      "Text: 'There's a problem with my order' -> Predicted: complaint, Actual: complaint\n",
      "Text: 'I have an issue' -> Predicted: complaint, Actual: complaint\n",
      "Text: 'What's the weather?' -> Predicted: unknown, Actual: unknown\n",
      "\n",
      "Accuracy: 100.00%\n"
     ]
    }
   ],
   "source": [
    "# Test the classifier\n",
    "correct = 0\n",
    "total = len(test_data)\n",
    "for text, true_intent in test_data:\n",
    "    predicted = classify_intent(text)\n",
    "    print(f\"Text: '{text}' -> Predicted: {predicted}, Actual: {true_intent}\")\n",
    "    if predicted == true_intent:\n",
    "        correct += 1\n",
    "\n",
    "accuracy = (correct / total) * 100\n",
    "print(f\"\\nAccuracy: {accuracy:.2f}%\")"
   ]
  },
  {
   "cell_type": "code",
   "execution_count": 10,
   "id": "0846af2a",
   "metadata": {},
   "outputs": [
    {
     "name": "stdout",
     "output_type": "stream",
     "text": [
      "Rule Coverage: 85.71%\n"
     ]
    }
   ],
   "source": [
    "# Calculate rule coverage (percentage of inputs not classified as 'unknown')\n",
    "covered = sum(1 for text, _ in test_data if classify_intent(text) != 'unknown')\n",
    "coverage = (covered / total) * 100\n",
    "print(f\"Rule Coverage: {coverage:.2f}%\")"
   ]
  },
  {
   "cell_type": "markdown",
   "id": "f6c73747",
   "metadata": {},
   "source": [
    "## Results\n",
    "\n",
    "The classifier achieved an accuracy of 100.00% on the test set. Rule coverage was 85.71%, meaning 6 out of 7 inputs were handled by the rules, with 'unknown' correctly assigned to unmatched inputs."
   ]
  }
 ],
 "metadata": {
  "kernelspec": {
   "display_name": "venv (3.12.3)",
   "language": "python",
   "name": "python3"
  },
  "language_info": {
   "codemirror_mode": {
    "name": "ipython",
    "version": 3
   },
   "file_extension": ".py",
   "mimetype": "text/x-python",
   "name": "python",
   "nbconvert_exporter": "python",
   "pygments_lexer": "ipython3",
   "version": "3.12.3"
  }
 },
 "nbformat": 4,
 "nbformat_minor": 5
}
