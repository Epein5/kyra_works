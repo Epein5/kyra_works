{
 "cells": [
  {
   "cell_type": "markdown",
   "id": "e2ee43e2",
   "metadata": {},
   "source": [
    "# Text Summarization for Incident Reports\n",
    "\n",
    "This notebook tests the basic NLP summarization functionality using the sumy library. We'll run a couple of test cases on sample incident descriptions to see how well the extractive summarization works."
   ]
  },
  {
   "cell_type": "code",
   "execution_count": 2,
   "id": "ce406e2b",
   "metadata": {},
   "outputs": [],
   "source": [
    "from sumy.parsers.plaintext import PlaintextParser\n",
    "from sumy.nlp.tokenizers import Tokenizer\n",
    "from sumy.summarizers.lex_rank import LexRankSummarizer\n",
    "\n",
    "def summarize_text(text, sentences_count=3):\n",
    "    parser = PlaintextParser.from_string(text, Tokenizer(\"english\"))\n",
    "    summarizer = LexRankSummarizer()\n",
    "    summary = summarizer(parser.document, sentences_count)\n",
    "    return ' '.join([str(sentence) for sentence in summary])"
   ]
  },
  {
   "cell_type": "markdown",
   "id": "368067c3",
   "metadata": {},
   "source": [
    "# Test Cases for Text Summarization"
   ]
  },
  {
   "cell_type": "code",
   "execution_count": 3,
   "id": "8f78898e",
   "metadata": {},
   "outputs": [],
   "source": [
    "# Import the summarizer function from our app\n",
    "import sys\n",
    "sys.path.append('./app')"
   ]
  },
  {
   "cell_type": "markdown",
   "id": "13d47d92",
   "metadata": {},
   "source": [
    "## Test Case 1: Warehouse Fire Incident"
   ]
  },
  {
   "cell_type": "code",
   "execution_count": 4,
   "id": "dc69dc5b",
   "metadata": {},
   "outputs": [
    {
     "name": "stdout",
     "output_type": "stream",
     "text": [
      "Original text:\n",
      "A fire broke out in the warehouse at 3 PM yesterday. The fire department was called immediately.\n",
      "They arrived within 10 minutes and managed to extinguish the fire before it spread to other buildings.\n",
      "No injuries were reported, but significant damage was done to the stored goods.\n",
      "\n",
      "Original length: 279 characters\n",
      "\n",
      "Summary (2 sentences):\n",
      "A fire broke out in the warehouse at 3 PM yesterday. The fire department was called immediately.\n",
      "Summary length: 96 characters\n",
      "Compression ratio: 0.34\n"
     ]
    }
   ],
   "source": [
    "sample_text = \"\"\"\n",
    "A fire broke out in the warehouse at 3 PM yesterday. The fire department was called immediately.\n",
    "They arrived within 10 minutes and managed to extinguish the fire before it spread to other buildings.\n",
    "No injuries were reported, but significant damage was done to the stored goods.\n",
    "\"\"\"\n",
    "\n",
    "print(\"Original text:\")\n",
    "print(sample_text.strip())\n",
    "print(f\"\\nOriginal length: {len(sample_text.strip())} characters\")\n",
    "\n",
    "summary = summarize_text(sample_text, sentences_count=2)\n",
    "print(\"\\nSummary (2 sentences):\")\n",
    "print(summary)\n",
    "print(f\"Summary length: {len(summary)} characters\")\n",
    "print(f\"Compression ratio: {len(summary)/len(sample_text.strip()):.2f}\")"
   ]
  },
  {
   "cell_type": "markdown",
   "id": "4aa799fa",
   "metadata": {},
   "source": [
    "## Test Case 2: Suspicious Package Incident"
   ]
  },
  {
   "cell_type": "code",
   "execution_count": null,
   "id": "40ea364a",
   "metadata": {},
   "outputs": [
    {
     "name": "stdout",
     "output_type": "stream",
     "text": [
      "Original text:\n",
      "On January 15, 2023, an employee reported a suspicious package in the main office lobby.\n",
      "Security personnel were alerted, and the building was evacuated as a precaution.\n",
      "The bomb squad was called in to investigate. After thorough examination, it was determined\n",
      "that the package contained harmless materials. The all-clear was given after two hours,\n",
      "and normal operations resumed. This incident highlights the importance of vigilance in\n",
      "workplace safety protocols.\n",
      "\n",
      "Original length: 463 characters\n",
      "\n",
      "Summary (3 sentences):\n",
      "On January 15, 2023, an employee reported a suspicious package in the main office lobby. Security personnel were alerted, and the building was evacuated as a precaution. After thorough examination, it was determined that the package contained harmless materials.\n",
      "Summary length: 262 characters\n",
      "Compression ratio: 0.57\n"
     ]
    }
   ],
   "source": [
    "long_text = \"\"\"\n",
    "On January 15, 2023, an employee reported a suspicious package in the main office lobby.\n",
    "Security personnel were alerted, and the building was evacuated as a precaution.\n",
    "The bomb squad was called in to investigate. After thorough examination, it was determined\n",
    "that the package contained harmless materials. The all-clear was given after two hours,\n",
    "and normal operations resumed. This incident highlights the importance of vigilance in\n",
    "workplace safety protocols.\n",
    "\"\"\"\n",
    "\n",
    "print(\"Original text:\")\n",
    "print(long_text.strip())\n",
    "print(f\"\\nOriginal length: {len(long_text.strip())} characters\")\n",
    "\n",
    "summary2 = summarize_text(long_text, sentences_count=3)\n",
    "print(\"\\nSummary (3 sentences):\")\n",
    "print(summary2)\n",
    "print(f\"Summary length: {len(summary2)} characters\")\n",
    "print(f\"Compression ratio: {len(summary2)/len(long_text.strip()):.2f}\")"
   ]
  },
  {
   "cell_type": "markdown",
   "id": "7909fde6",
   "metadata": {},
   "source": [
    "## Observations\n",
    "\n",
    "- The summarization captures the key points of each incident.\n",
    "- Compression ratios show good reduction while maintaining coherence.\n",
    "- For incident reports, this could help quickly identify main events and outcomes.\n",
    "- Quality seems decent for extractive summarization - it picks important sentences."
   ]
  },
  {
   "cell_type": "markdown",
   "id": "a75ba08a",
   "metadata": {},
   "source": []
  }
 ],
 "metadata": {
  "kernelspec": {
   "display_name": "venv (3.12.3)",
   "language": "python",
   "name": "python3"
  },
  "language_info": {
   "codemirror_mode": {
    "name": "ipython",
    "version": 3
   },
   "file_extension": ".py",
   "mimetype": "text/x-python",
   "name": "python",
   "nbconvert_exporter": "python",
   "pygments_lexer": "ipython3",
   "version": "3.12.3"
  }
 },
 "nbformat": 4,
 "nbformat_minor": 5
}
